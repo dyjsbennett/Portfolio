{
 "cells": [
  {
   "cell_type": "code",
   "execution_count": 50,
   "metadata": {},
   "outputs": [
    {
     "name": "stderr",
     "output_type": "stream",
     "text": [
      "C:\\ProgramData\\Anaconda3\\lib\\site-packages\\IPython\\core\\interactiveshell.py:3146: DtypeWarning: Columns (7,16,62,64,65,67,68,78) have mixed types.Specify dtype option on import or set low_memory=False.\n",
      "  has_raised = await self.run_ast_nodes(code_ast.body, cell_name,\n"
     ]
    }
   ],
   "source": [
    "##import Pandas, Numpy and scipy. Create DataFrame for raw data\n",
    "import pandas as pd\n",
    "import numpy as np\n",
    "import scipy as sp\n",
    "from scipy import stats\n",
    "from scipy.stats import ttest_ind\n",
    "import matplotlib.pyplot as plt\n",
    "rawdata_df = pd.read_csv(\"https://tf-assets-prod.s3.amazonaws.com/tf-curric/data-analytics-bootcamp/epa-fuel-economy.csv\")"
   ]
  },
  {
   "cell_type": "code",
   "execution_count": 51,
   "metadata": {},
   "outputs": [
    {
     "data": {
      "text/html": [
       "<div>\n",
       "<style scoped>\n",
       "    .dataframe tbody tr th:only-of-type {\n",
       "        vertical-align: middle;\n",
       "    }\n",
       "\n",
       "    .dataframe tbody tr th {\n",
       "        vertical-align: top;\n",
       "    }\n",
       "\n",
       "    .dataframe thead th {\n",
       "        text-align: right;\n",
       "    }\n",
       "</style>\n",
       "<table border=\"1\" class=\"dataframe\">\n",
       "  <thead>\n",
       "    <tr style=\"text-align: right;\">\n",
       "      <th></th>\n",
       "      <th>Vehicle ID</th>\n",
       "      <th>Year</th>\n",
       "      <th>Make</th>\n",
       "      <th>Model</th>\n",
       "      <th>Class</th>\n",
       "      <th>Drive</th>\n",
       "      <th>Transmission</th>\n",
       "      <th>Transmission Descriptor</th>\n",
       "      <th>Engine Index</th>\n",
       "      <th>Engine Descriptor</th>\n",
       "      <th>...</th>\n",
       "      <th>Hours to Charge (AC 240V)</th>\n",
       "      <th>Composite City MPG</th>\n",
       "      <th>Composite Highway MPG</th>\n",
       "      <th>Composite Combined MPG</th>\n",
       "      <th>Range (FT1)</th>\n",
       "      <th>City Range (FT1)</th>\n",
       "      <th>Highway Range (FT1)</th>\n",
       "      <th>Range (FT2)</th>\n",
       "      <th>City Range (FT2)</th>\n",
       "      <th>Highway Range (FT2)</th>\n",
       "    </tr>\n",
       "  </thead>\n",
       "  <tbody>\n",
       "    <tr>\n",
       "      <th>0</th>\n",
       "      <td>26587</td>\n",
       "      <td>1984</td>\n",
       "      <td>Alfa Romeo</td>\n",
       "      <td>GT V6 2.5</td>\n",
       "      <td>Minicompact Cars</td>\n",
       "      <td>NaN</td>\n",
       "      <td>Manual 5-Speed</td>\n",
       "      <td>NaN</td>\n",
       "      <td>9001</td>\n",
       "      <td>(FFS)</td>\n",
       "      <td>...</td>\n",
       "      <td>0.0</td>\n",
       "      <td>0</td>\n",
       "      <td>0</td>\n",
       "      <td>0</td>\n",
       "      <td>0</td>\n",
       "      <td>0.0</td>\n",
       "      <td>0.0</td>\n",
       "      <td>NaN</td>\n",
       "      <td>0.0</td>\n",
       "      <td>0.0</td>\n",
       "    </tr>\n",
       "    <tr>\n",
       "      <th>1</th>\n",
       "      <td>27705</td>\n",
       "      <td>1984</td>\n",
       "      <td>Alfa Romeo</td>\n",
       "      <td>GT V6 2.5</td>\n",
       "      <td>Minicompact Cars</td>\n",
       "      <td>NaN</td>\n",
       "      <td>Manual 5-Speed</td>\n",
       "      <td>NaN</td>\n",
       "      <td>9005</td>\n",
       "      <td>(FFS) CA model</td>\n",
       "      <td>...</td>\n",
       "      <td>0.0</td>\n",
       "      <td>0</td>\n",
       "      <td>0</td>\n",
       "      <td>0</td>\n",
       "      <td>0</td>\n",
       "      <td>0.0</td>\n",
       "      <td>0.0</td>\n",
       "      <td>NaN</td>\n",
       "      <td>0.0</td>\n",
       "      <td>0.0</td>\n",
       "    </tr>\n",
       "    <tr>\n",
       "      <th>2</th>\n",
       "      <td>26561</td>\n",
       "      <td>1984</td>\n",
       "      <td>Alfa Romeo</td>\n",
       "      <td>Spider Veloce 2000</td>\n",
       "      <td>Two Seaters</td>\n",
       "      <td>NaN</td>\n",
       "      <td>Manual 5-Speed</td>\n",
       "      <td>NaN</td>\n",
       "      <td>9002</td>\n",
       "      <td>(FFS)</td>\n",
       "      <td>...</td>\n",
       "      <td>0.0</td>\n",
       "      <td>0</td>\n",
       "      <td>0</td>\n",
       "      <td>0</td>\n",
       "      <td>0</td>\n",
       "      <td>0.0</td>\n",
       "      <td>0.0</td>\n",
       "      <td>NaN</td>\n",
       "      <td>0.0</td>\n",
       "      <td>0.0</td>\n",
       "    </tr>\n",
       "    <tr>\n",
       "      <th>3</th>\n",
       "      <td>27681</td>\n",
       "      <td>1984</td>\n",
       "      <td>Alfa Romeo</td>\n",
       "      <td>Spider Veloce 2000</td>\n",
       "      <td>Two Seaters</td>\n",
       "      <td>NaN</td>\n",
       "      <td>Manual 5-Speed</td>\n",
       "      <td>NaN</td>\n",
       "      <td>9006</td>\n",
       "      <td>(FFS) CA model</td>\n",
       "      <td>...</td>\n",
       "      <td>0.0</td>\n",
       "      <td>0</td>\n",
       "      <td>0</td>\n",
       "      <td>0</td>\n",
       "      <td>0</td>\n",
       "      <td>0.0</td>\n",
       "      <td>0.0</td>\n",
       "      <td>NaN</td>\n",
       "      <td>0.0</td>\n",
       "      <td>0.0</td>\n",
       "    </tr>\n",
       "    <tr>\n",
       "      <th>4</th>\n",
       "      <td>27550</td>\n",
       "      <td>1984</td>\n",
       "      <td>AM General</td>\n",
       "      <td>DJ Po Vehicle 2WD</td>\n",
       "      <td>Special Purpose Vehicle 2WD</td>\n",
       "      <td>2-Wheel Drive</td>\n",
       "      <td>Automatic 3-Speed</td>\n",
       "      <td>NaN</td>\n",
       "      <td>1830</td>\n",
       "      <td>(FFS)</td>\n",
       "      <td>...</td>\n",
       "      <td>0.0</td>\n",
       "      <td>0</td>\n",
       "      <td>0</td>\n",
       "      <td>0</td>\n",
       "      <td>0</td>\n",
       "      <td>0.0</td>\n",
       "      <td>0.0</td>\n",
       "      <td>NaN</td>\n",
       "      <td>0.0</td>\n",
       "      <td>0.0</td>\n",
       "    </tr>\n",
       "  </tbody>\n",
       "</table>\n",
       "<p>5 rows × 81 columns</p>\n",
       "</div>"
      ],
      "text/plain": [
       "   Vehicle ID  Year        Make               Model  \\\n",
       "0       26587  1984  Alfa Romeo           GT V6 2.5   \n",
       "1       27705  1984  Alfa Romeo           GT V6 2.5   \n",
       "2       26561  1984  Alfa Romeo  Spider Veloce 2000   \n",
       "3       27681  1984  Alfa Romeo  Spider Veloce 2000   \n",
       "4       27550  1984  AM General   DJ Po Vehicle 2WD   \n",
       "\n",
       "                         Class          Drive       Transmission  \\\n",
       "0             Minicompact Cars            NaN     Manual 5-Speed   \n",
       "1             Minicompact Cars            NaN     Manual 5-Speed   \n",
       "2                  Two Seaters            NaN     Manual 5-Speed   \n",
       "3                  Two Seaters            NaN     Manual 5-Speed   \n",
       "4  Special Purpose Vehicle 2WD  2-Wheel Drive  Automatic 3-Speed   \n",
       "\n",
       "  Transmission Descriptor  Engine Index Engine Descriptor  ...  \\\n",
       "0                     NaN          9001             (FFS)  ...   \n",
       "1                     NaN          9005    (FFS) CA model  ...   \n",
       "2                     NaN          9002             (FFS)  ...   \n",
       "3                     NaN          9006    (FFS) CA model  ...   \n",
       "4                     NaN          1830             (FFS)  ...   \n",
       "\n",
       "   Hours to Charge (AC 240V)  Composite City MPG Composite Highway MPG  \\\n",
       "0                        0.0                   0                     0   \n",
       "1                        0.0                   0                     0   \n",
       "2                        0.0                   0                     0   \n",
       "3                        0.0                   0                     0   \n",
       "4                        0.0                   0                     0   \n",
       "\n",
       "  Composite Combined MPG Range (FT1) City Range (FT1) Highway Range (FT1)  \\\n",
       "0                      0           0              0.0                 0.0   \n",
       "1                      0           0              0.0                 0.0   \n",
       "2                      0           0              0.0                 0.0   \n",
       "3                      0           0              0.0                 0.0   \n",
       "4                      0           0              0.0                 0.0   \n",
       "\n",
       "   Range (FT2)  City Range (FT2)  Highway Range (FT2)  \n",
       "0          NaN               0.0                  0.0  \n",
       "1          NaN               0.0                  0.0  \n",
       "2          NaN               0.0                  0.0  \n",
       "3          NaN               0.0                  0.0  \n",
       "4          NaN               0.0                  0.0  \n",
       "\n",
       "[5 rows x 81 columns]"
      ]
     },
     "execution_count": 51,
     "metadata": {},
     "output_type": "execute_result"
    }
   ],
   "source": [
    "##Check to see how DataFrame was imported\n",
    "rawdata_df.head()"
   ]
  },
  {
   "cell_type": "code",
   "execution_count": 52,
   "metadata": {},
   "outputs": [
    {
     "name": "stdout",
     "output_type": "stream",
     "text": [
      "[[<AxesSubplot:title={'center':'Combined MPG (FT1)'}>]] [[<AxesSubplot:title={'center':'City MPG (FT1)'}>]] [[<AxesSubplot:title={'center':'Highway MPG (FT1)'}>]]\n"
     ]
    },
    {
     "data": {
      "image/png": "[encoded data removed]",
      "text/plain": [
       "<Figure size 432x288 with 1 Axes>"
      ]
     },
     "metadata": {
      "needs_background": "light"
     },
     "output_type": "display_data"
    },
    {
     "data": {
      "image/png": "[encoded data removed]",
      "text/plain": [
       "<Figure size 432x288 with 1 Axes>"
      ]
     },
     "metadata": {
      "needs_background": "light"
     },
     "output_type": "display_data"
    },
    {
     "data": {
      "image/png": "[encoded data removed]",
      "text/plain": [
       "<Figure size 432x288 with 1 Axes>"
      ]
     },
     "metadata": {
      "needs_background": "light"
     },
     "output_type": "display_data"
    }
   ],
   "source": [
    "##Plot histogram to ensure data normality for three fuel efficiency metrics\n",
    "combinedmpg = rawdata_df\n",
    "citympg = rawdata_df\n",
    "hwympg = rawdata_df\n",
    "combined = combinedmpg.hist(\"Combined MPG (FT1)\", bins=50)\n",
    "city = citympg.hist(\"City MPG (FT1)\", bins=50)\n",
    "highway = hwympg.hist(\"Highway MPG (FT1)\", bins=50)\n",
    "print(combined,city,highway)"
   ]
  },
  {
   "cell_type": "code",
   "execution_count": 53,
   "metadata": {},
   "outputs": [],
   "source": [
    "##create random groups\n",
    "rawdata_df['rand'] = np.random.randint(1,9, size=len(rawdata_df))"
   ]
  },
  {
   "cell_type": "code",
   "execution_count": 54,
   "metadata": {},
   "outputs": [],
   "source": [
    "##filter new df to just group 7 and remove non-gasoline motors\n",
    "randdf = rawdata_df[(rawdata_df.rand==7)]\n",
    "df = randdf[randdf['Fuel Type 1'].str.contains(\"Gasoline\",na=False)]"
   ]
  },
  {
   "cell_type": "code",
   "execution_count": 55,
   "metadata": {},
   "outputs": [],
   "source": [
    "##split into test varible\n",
    "df1 = df[df['Transmission'].str.contains(\"Manual\",na=False)]\n",
    "df2 = df[df['Transmission'].str.contains(\"Auto\",na=False)]"
   ]
  },
  {
   "cell_type": "code",
   "execution_count": 59,
   "metadata": {},
   "outputs": [],
   "source": [
    "##cut down columns to just combined MPG\n",
    "dfmanual = df1[\"Combined MPG (FT1)\"]\n",
    "dfauto = df2[\"Combined MPG (FT1)\"]"
   ]
  },
  {
   "cell_type": "code",
   "execution_count": 60,
   "metadata": {},
   "outputs": [
    {
     "data": {
      "text/plain": [
       "Ttest_indResult(statistic=11.619687065160628, pvalue=8.927252437086793e-31)"
      ]
     },
     "execution_count": 60,
     "metadata": {},
     "output_type": "execute_result"
    }
   ],
   "source": [
    "##t test \n",
    "ttest_ind(dfmanual,dfauto)"
   ]
  },
  {
   "cell_type": "code",
   "execution_count": 65,
   "metadata": {},
   "outputs": [],
   "source": [
    "##calculate mean MPG and standard deviation for error bars plot\n",
    "dfmanualmean = np.mean(dfmanual)\n",
    "dfautomean = np.mean(dfauto)\n",
    "dfmanualstd = np.std(dfmanual)\n",
    "dfautostd = np.std(dfauto)"
   ]
  },
  {
   "cell_type": "code",
   "execution_count": 70,
   "metadata": {},
   "outputs": [],
   "source": [
    "##create lists for the plot\n",
    "mpg = ['dfmanual','dfauto']\n",
    "x_pos = np.arange(len(mpg))\n",
    "mpgs = [dfmanualmean, dfautomean]\n",
    "error = [dfmanualstd, dfautostd]"
   ]
  },
  {
   "cell_type": "code",
   "execution_count": 72,
   "metadata": {},
   "outputs": [
    {
     "data": {
      "image/png": "[encoded data removed]",
      "text/plain": [
       "<Figure size 432x288 with 1 Axes>"
      ]
     },
     "metadata": {
      "needs_background": "light"
     },
     "output_type": "display_data"
    }
   ],
   "source": [
    "##plot the bars with error ranges\n",
    "fig, ax = plt.subplots()\n",
    "ax.bar(x_pos, mpgs, yerr=error, align='center', alpha=0.5, ecolor='black', capsize=10)\n",
    "ax.set_ylabel('Combined Average Miles per Gallon')\n",
    "ax.set_xticks(x_pos)\n",
    "ax.set_xticklabels(mpg)\n",
    "ax.set_title('Average Miles per Gallon of Group 7 by transmission type')\n",
    "\n",
    "plt.tight_layout()\n",
    "plt.savefig('bar_plot_with_error_bars.png')\n",
    "plt.show()"
   ]
  },
  {
   "cell_type": "code",
   "execution_count": null,
   "metadata": {},
   "outputs": [],
   "source": []
  }
 ],
 "metadata": {
  "kernelspec": {
   "display_name": "Python 3",
   "language": "python",
   "name": "python3"
  },
  "language_info": {
   "codemirror_mode": {
    "name": "ipython",
    "version": 3
   },
   "file_extension": ".py",
   "mimetype": "text/x-python",
   "name": "python",
   "nbconvert_exporter": "python",
   "pygments_lexer": "ipython3",
   "version": "3.8.5"
  }
 },
 "nbformat": 4,
 "nbformat_minor": 4
}
